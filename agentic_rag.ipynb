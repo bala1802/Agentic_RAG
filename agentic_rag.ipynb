{
 "cells": [
  {
   "cell_type": "code",
   "execution_count": 1,
   "metadata": {},
   "outputs": [],
   "source": [
    "import os\n",
    "\n",
    "from rag_tool import construct_rag_tool\n",
    "\n",
    "from tavily_utils import initialize_web_search_tool\n",
    "from tavily_utils import execute_web_search\n",
    "\n",
    "from router import router_tool\n",
    "\n",
    "from llm_utils import initialize_llm\n",
    "\n",
    "from agents import initialize_router_agent \n",
    "from agents import initialize_retriever_agent\n",
    "from agents import initialize_answer_grader_agent\n",
    "from agents import initialize_grader_agent\n",
    "from agents import initialize_hallucination_grader_agent\n",
    "\n",
    "from tasks import initialize_router_task\n",
    "from tasks import initialize_answer_task\n",
    "from tasks import initialize_retriever_task\n",
    "from tasks import initialize_grader_task\n",
    "from tasks import initialize_hallucination_task\n",
    "\n",
    "from crew_operations import orchestrate_work_flow\n",
    "from crew_operations import execute_work_flow\n",
    "\n",
    "from config import GROQ_API_KEY\n",
    "from config import TAVILY_API_KEY"
   ]
  },
  {
   "cell_type": "markdown",
   "metadata": {},
   "source": [
    "### Set API Environment Variables"
   ]
  },
  {
   "cell_type": "code",
   "execution_count": 2,
   "metadata": {},
   "outputs": [],
   "source": [
    "os.environ['GROQ_API_KEY'] = GROQ_API_KEY\n",
    "os.environ['TAVILY_API_KEY'] = TAVILY_API_KEY"
   ]
  },
  {
   "cell_type": "markdown",
   "metadata": {},
   "source": [
    "### RAG Tool"
   ]
  },
  {
   "cell_type": "code",
   "execution_count": 3,
   "metadata": {},
   "outputs": [
    {
     "name": "stderr",
     "output_type": "stream",
     "text": [
      "/Users/apple/miniconda3/envs/venv_langchain/lib/python3.10/site-packages/sentence_transformers/cross_encoder/CrossEncoder.py:11: TqdmWarning: IProgress not found. Please update jupyter and ipywidgets. See https://ipywidgets.readthedocs.io/en/stable/user_install.html\n",
      "  from tqdm.autonotebook import tqdm, trange\n",
      "2024-08-25 23:55:04,494 - 8378616832 - _utils.py-_utils:463 - WARNING: Ignoring wrong pointing object 7 0 (offset 0)\n",
      "2024-08-25 23:55:04,495 - 8378616832 - _utils.py-_utils:463 - WARNING: Ignoring wrong pointing object 15 0 (offset 0)\n",
      "2024-08-25 23:55:04,495 - 8378616832 - _utils.py-_utils:463 - WARNING: Ignoring wrong pointing object 22 0 (offset 0)\n",
      "2024-08-25 23:55:04,496 - 8378616832 - _utils.py-_utils:463 - WARNING: Ignoring wrong pointing object 61 0 (offset 0)\n",
      "Inserting batches in chromadb: 100%|██████████| 1/1 [00:00<00:00,  1.94it/s]\n"
     ]
    }
   ],
   "source": [
    "'''\n",
    "Input Parameters to RAG Tool\n",
    "\n",
    "- URL: https://aclanthology.org/2020.wmt-1.52.pdf\n",
    "'''\n",
    "\n",
    "rag_tool = construct_rag_tool(urls=[\"https://aclanthology.org/2020.wmt-1.52.pdf\"])"
   ]
  },
  {
   "cell_type": "code",
   "execution_count": 4,
   "metadata": {},
   "outputs": [
    {
     "name": "stdout",
     "output_type": "stream",
     "text": [
      "Using Tool: Search a PDF's content\n"
     ]
    },
    {
     "data": {
      "text/plain": [
       "'Relevant Content:\\nsubmissions.5 ConclusionThis paper describes the techniques involved inour system submitted for the WMT20 Similar Lan-guage Translation task by Infosys. This winningHindi-Marathi translation system is built based onNMT and evaluated based on the metric, BLEU.The domain-based data preprocessing and ﬁl-tering techniques eases model learning. Adoptingnovel approach of anonymizing language agnostictokens aided our system to focus more on tokensthat matters in the translation. It is highly observedthat the ratio of monolingual data used against bi-text data plays a vital role in back-translated mod-els. Improving translation accuracy and languageﬂuency by utilizing all available out-of-domainmonolingual corpora to the maximum effect can befurther explored.ReferencesDzmitry Bahdanau, Kyunghyun Cho, and Yoshua Ben-gio. 2015.Neural machine translation by jointlylearning to align and translate. In3rd InternationalConference on Learning Representations, ICLR, SanDiego, USA.Pau Baquero-Arnal,\\n\\nwith invalid char-acters, strip leading and trailing whitespaces, andremove duplicate sentences.3 System OverviewOur Hindi-Marathi primary system is an ensem-ble of two transformer models. One is back-translated model and the other model is trainedon anonymized data.1https:/github.com/kpu/preprocess\\n\\nProceedings of the 5th Conference on Machine Translation (WMT), pages 437–441Online, November 19–20, 2020.c\\x002020 Association for Computational Linguistics437Infosys Machine Translation System for WMT20 Similar LanguageTranslation TaskKamalkumar Rathinasamy, Amanpreet Singh, Balaguru Sivasambagupta,Prajna Prasad Neerchal, Vani SivasankaranInfosys Limited{kamalkumarr,amanpreet.singh04,balaguru.s,prajna.neerchal,vani.s}@infosys.comAbstractThis paper describes Infosys’ submission tothe WMT20 Similar Language Translationshared task. We participated in Indo-Aryanlanguage pair in the language direction Hindito Marathi. Our baseline system is byte-pair encoding based transformer model trainedwith the fairseq sequence modeling toolkit.Our ﬁnal system is an ensemble of two trans-former models, which ranked ﬁrst in theWMT20 evaluation. One model is designedto learn the nuances of translation of this lowresource language pair by taking advantage ofthe fact that the source and target languages'"
      ]
     },
     "execution_count": 4,
     "metadata": {},
     "output_type": "execute_result"
    }
   ],
   "source": [
    "'''\n",
    "Infer from the RAG Tool\n",
    "'''\n",
    "rag_tool.run(\"What is the BLEU Score of the ensemble model of Hindi to Marathi translation?\")"
   ]
  },
  {
   "cell_type": "markdown",
   "metadata": {},
   "source": [
    "### Web Search Tool"
   ]
  },
  {
   "cell_type": "code",
   "execution_count": 5,
   "metadata": {},
   "outputs": [],
   "source": [
    "'''\n",
    "Initialize Web search tool using Tavily\n",
    "'''\n",
    "web_search_tool = initialize_web_search_tool()"
   ]
  },
  {
   "cell_type": "code",
   "execution_count": 6,
   "metadata": {},
   "outputs": [
    {
     "data": {
      "text/plain": [
       "[{'url': 'https://ai.meta.com/blog/introducing-many-to-many-multilingual-machine-translation/',\n",
       "  'content': \"October 19, 2020. Share on Facebook. Share on Twitter. Facebook AI is introducing, M2M-100 the first multilingual machine translation (MMT) model that translates between any pair of 100 languages without relying on English data. It's open sourced here. When translating, say, Chinese to French, previous best multilingual models train on ...\"},\n",
       " {'url': 'https://ai.meta.com/blog/the-first-ever-multilingual-model-to-win-wmt-beating-out-bilingual-models/',\n",
       "  'content': 'For the first time, a single multilingual model has outperformed the best bilingual models across 10 out of 14 language pairs to win WMT, a prestigious machine translation competition. Our single multilingual model provided the best translations for both low-and high-resource languages, showing that the multilingual approach is the future of MT.'},\n",
       " {'url': 'https://ai.meta.com/blog/nllb-200-high-quality-machine-translation/',\n",
       "  'content': \"To help people connect better today and be part of the metaverse of tomorrow, Meta AI researchers created No Language Left Behind (NLLB), an effort to develop high-quality machine translation capabilities for most of the world's languages.Today, we're announcing an important breakthrough in NLLB: We've built a single AI model called NLLB-200, which translates 200 different languages with ...\"},\n",
       " {'url': 'https://slator.com/inside-deepl-the-worlds-fastest-growing-most-secretive-machine-translation-company/',\n",
       "  'content': 'The Cologne, Germany-based machine translation (MT) provider has since added 21 more languages; first Russian and Portuguese in May 2018, then Chinese and Japanese in March 2020, and a further 13 European languages in March 2021.. Its success in Japan has been particularly rapid, taking less than 17 months from release to becoming the 30th most popular website in the country, according to ...'},\n",
       " {'url': 'https://www.nature.com/articles/d41586-024-00964-2',\n",
       "  'content': 'Under-resourced languages incorporated into machine-translation model. More than 7,000 languages are in use throughout the world, but popular translation tools cannot deal with most of them.'}]"
      ]
     },
     "execution_count": 6,
     "metadata": {},
     "output_type": "execute_result"
    }
   ],
   "source": [
    "'''\n",
    "Execute web search for the specified content\n",
    "'''\n",
    "execute_web_search(web_search_tool=web_search_tool, question=\"Which is the best World Machine Translation model built in 2020?\")"
   ]
  },
  {
   "cell_type": "markdown",
   "metadata": {},
   "source": [
    "### Agentic RAG Design Pattern"
   ]
  },
  {
   "cell_type": "markdown",
   "metadata": {},
   "source": [
    "#### Large Language Model initialization"
   ]
  },
  {
   "cell_type": "code",
   "execution_count": 7,
   "metadata": {},
   "outputs": [],
   "source": [
    "llm = initialize_llm()"
   ]
  },
  {
   "cell_type": "markdown",
   "metadata": {},
   "source": [
    "#### Agents Construction"
   ]
  },
  {
   "cell_type": "code",
   "execution_count": 8,
   "metadata": {},
   "outputs": [],
   "source": [
    "Router_Agent = initialize_router_agent(llm=llm)\n",
    "Answer_Grader_Agent = initialize_answer_grader_agent(llm=llm)\n",
    "Grader_Agent = initialize_grader_agent(llm=llm)\n",
    "Hallucination_Grader_Agent = initialize_hallucination_grader_agent(llm=llm)\n",
    "Retreiver_Agent = initialize_retriever_agent(llm=llm)"
   ]
  },
  {
   "cell_type": "markdown",
   "metadata": {},
   "source": [
    "#### Tasks Construction"
   ]
  },
  {
   "cell_type": "code",
   "execution_count": 9,
   "metadata": {},
   "outputs": [],
   "source": [
    "Router_Task = initialize_router_task(agent=Router_Agent, tool=router_tool)\n",
    "Retreiver_Task = initialize_retriever_task(agent=Retreiver_Agent, task=Router_Task)\n",
    "Grader_Task = initialize_grader_task(agent=Grader_Agent, task=Retreiver_Task)\n",
    "Hallucination_Task = initialize_hallucination_task(agent=Hallucination_Grader_Agent, task=Grader_Task)\n",
    "Answer_Task = initialize_answer_task(agent=Answer_Grader_Agent, task=Hallucination_Task)\n"
   ]
  },
  {
   "cell_type": "markdown",
   "metadata": {},
   "source": [
    "#### CREW AI Operations"
   ]
  },
  {
   "cell_type": "code",
   "execution_count": 10,
   "metadata": {},
   "outputs": [
    {
     "name": "stdout",
     "output_type": "stream",
     "text": [
      "\u001b[1m\u001b[95m [DEBUG]: == Working Agent: Router\u001b[00m\n",
      "\u001b[1m\u001b[95m [INFO]: == Starting Task: \n",
      "Analyze the question Describe the hindi - marathi translation model? for keywords. Determine whether it requires a vector store search or a web search. \n",
      "Respond with either 'vectorstore' or 'websearch' as a single word, without additional explanations.\n",
      "\u001b[00m\n",
      "\n",
      "\n",
      "\u001b[1m> Entering new CrewAgentExecutor chain...\u001b[0m\n",
      "\u001b[32;1m\u001b[1;3mThought: The question is asking about a specific translation model, which is a topic in the field of Natural Language Processing (NLP). The question mentions Hindi and Marathi, which are both languages.\n",
      "\n",
      "Action: router_tool\n",
      "Action Input: {\"question\": \"Describe the hindi - marathi translation model?\"}\n",
      "\u001b[0m\u001b[95m \n",
      "\n",
      "vectorstore\n",
      "\u001b[00m\n",
      "\u001b[32;1m\u001b[1;3mFinal Answer: vectorstore\u001b[0m\n",
      "\n",
      "\u001b[1m> Finished chain.\u001b[0m\n",
      "\u001b[1m\u001b[92m [DEBUG]: == [Router] Task output: vectorstore\n",
      "\n",
      "\u001b[00m\n",
      "\u001b[1m\u001b[95m [DEBUG]: == Working Agent: Retriever\u001b[00m\n",
      "\u001b[1m\u001b[95m [INFO]: == Starting Task: \n",
      "Based on the router's output, retrieve the necessary information for the question Describe the hindi - marathi translation model?. \n",
      "Use the 'web_search_tool' if the output is 'websearch', or the 'rag_tool' if it is 'vectorstore'.\n",
      "\u001b[00m\n",
      "\n",
      "\n",
      "\u001b[1m> Entering new CrewAgentExecutor chain...\u001b[0m\n",
      "\u001b[32;1m\u001b[1;3m\u001b[0m\u001b[32;1m\u001b[1;3mThought: I now can give a great answer\n",
      "Action: I will analyze the 'router_task' output and use the 'rag_tool' to retrieve relevant information.\n",
      "\n",
      "Final Answer: The Hindi-Marathi translation model is a neural machine translation model that translates text from Hindi to Marathi. It is a type of sequence-to-sequence model that uses a encoder-decoder architecture to generate the translated text. The model is trained on a large dataset of Hindi-Marathi parallel sentences and uses a combination of techniques such as attention and beam search to generate the translated text. The model can be used for a variety of applications such as language translation, text summarization, and chatbots.\u001b[0m\n",
      "\n",
      "\u001b[1m> Finished chain.\u001b[0m\n",
      "\u001b[1m\u001b[92m [DEBUG]: == [Retriever] Task output: The Hindi-Marathi translation model is a neural machine translation model that translates text from Hindi to Marathi. It is a type of sequence-to-sequence model that uses a encoder-decoder architecture to generate the translated text. The model is trained on a large dataset of Hindi-Marathi parallel sentences and uses a combination of techniques such as attention and beam search to generate the translated text. The model can be used for a variety of applications such as language translation, text summarization, and chatbots.\n",
      "\n",
      "\u001b[00m\n",
      "\u001b[1m\u001b[95m [DEBUG]: == Working Agent: Answer Grader\u001b[00m\n",
      "\u001b[1m\u001b[95m [INFO]: == Starting Task: \n",
      "Evaluate the content retrieved for the question Describe the hindi - marathi translation model?. Determine if the content is relevant to the query.\n",
      "\u001b[00m\n",
      "\n",
      "\n",
      "\u001b[1m> Entering new CrewAgentExecutor chain...\u001b[0m\n",
      "\u001b[32;1m\u001b[1;3m\u001b[0m\u001b[32;1m\u001b[1;3mThought: I now can give a great answer\n",
      "Final Answer: yes\u001b[0m\n",
      "\n",
      "\u001b[1m> Finished chain.\u001b[0m\n",
      "\u001b[1m\u001b[92m [DEBUG]: == [Answer Grader] Task output: yes\n",
      "\n",
      "\u001b[00m\n",
      "\u001b[1m\u001b[95m [DEBUG]: == Working Agent: Hallucination Grader\u001b[00m\n",
      "\u001b[1m\u001b[95m [INFO]: == Starting Task: \n",
      "Assess the answer from the grader task for the question Describe the hindi - marathi translation model?. \n",
      "Verify if the answer is supported by facts and is aligned with the question.\n",
      "\u001b[00m\n",
      "\n",
      "\n",
      "\u001b[1m> Entering new CrewAgentExecutor chain...\u001b[0m\n",
      "\u001b[32;1m\u001b[1;3m\u001b[0m\u001b[32;1m\u001b[1;3mThought: I now can give a great answer\n",
      "Action: I will assess the answer and provide a factual response\n",
      "Final Answer: yes\u001b[0m\n",
      "\n",
      "\u001b[1m> Finished chain.\u001b[0m\n",
      "\u001b[1m\u001b[92m [DEBUG]: == [Hallucination Grader] Task output: yes\n",
      "\n",
      "\u001b[00m\n",
      "\u001b[1m\u001b[95m [DEBUG]: == Working Agent: Answer Grader\u001b[00m\n",
      "\u001b[1m\u001b[95m [INFO]: == Starting Task: \n",
      "Based on the hallucination task's evaluation for the question Describe the hindi - marathi translation model?, determine if the answer is useful. \n",
      "If 'yes', provide a clear, concise answer. If 'no', conduct a web search and then respond.\n",
      "\u001b[00m\n",
      "\n",
      "\n",
      "\u001b[1m> Entering new CrewAgentExecutor chain...\u001b[0m\n",
      "\u001b[32;1m\u001b[1;3mThought: I now can give a great answer\n",
      "\n",
      "Let's assess the answer based on the hallucination task's evaluation. Since the output is \"yes\", I will provide a clear and concise answer.\n",
      "\n",
      "Final Answer: \n",
      "\n",
      "The Hindi-Marathi translation model is a machine learning-based model that translates text from Hindi to Marathi and vice versa. It uses deep learning algorithms and large datasets to learn the patterns and structures of both languages, enabling accurate and efficient translation. The model can be used in various applications such as language translation software, chatbots, and language learning platforms.\u001b[0m\n",
      "\n",
      "\u001b[1m> Finished chain.\u001b[0m\n",
      "\u001b[1m\u001b[92m [DEBUG]: == [Answer Grader] Task output: The Hindi-Marathi translation model is a machine learning-based model that translates text from Hindi to Marathi and vice versa. It uses deep learning algorithms and large datasets to learn the patterns and structures of both languages, enabling accurate and efficient translation. The model can be used in various applications such as language translation software, chatbots, and language learning platforms.\n",
      "\n",
      "\u001b[00m\n",
      "Final Result extracted from the Agentic RAG\n",
      "The Hindi-Marathi translation model is a machine learning-based model that translates text from Hindi to Marathi and vice versa. It uses deep learning algorithms and large datasets to learn the patterns and structures of both languages, enabling accurate and efficient translation. The model can be used in various applications such as language translation software, chatbots, and language learning platforms.\n"
     ]
    }
   ],
   "source": [
    "inputs = {\"question\":\"Describe the hindi - marathi translation model?\"}\n",
    "\n",
    "rag_crew = orchestrate_work_flow(agents=[Router_Agent, Retreiver_Agent, Grader_Agent, Hallucination_Grader_Agent, Answer_Grader_Agent],\n",
    "    tasks=[Router_Task, Retreiver_Task, Grader_Task, Hallucination_Task, Answer_Task])\n",
    "result = execute_work_flow(rag_crew=rag_crew, inputs=inputs)\n",
    "\n",
    "print(\"Final Result extracted from the Agentic RAG\")\n",
    "print(result)"
   ]
  },
  {
   "cell_type": "code",
   "execution_count": null,
   "metadata": {},
   "outputs": [],
   "source": []
  }
 ],
 "metadata": {
  "kernelspec": {
   "display_name": "venv_langchain",
   "language": "python",
   "name": "python3"
  },
  "language_info": {
   "codemirror_mode": {
    "name": "ipython",
    "version": 3
   },
   "file_extension": ".py",
   "mimetype": "text/x-python",
   "name": "python",
   "nbconvert_exporter": "python",
   "pygments_lexer": "ipython3",
   "version": "3.10.14"
  }
 },
 "nbformat": 4,
 "nbformat_minor": 2
}
